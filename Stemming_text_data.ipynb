{
  "nbformat": 4,
  "nbformat_minor": 0,
  "metadata": {
    "colab": {
      "provenance": []
    },
    "kernelspec": {
      "name": "python3",
      "display_name": "Python 3"
    },
    "language_info": {
      "name": "python"
    }
  },
  "cells": [
    {
      "cell_type": "code",
      "execution_count": 5,
      "metadata": {
        "colab": {
          "base_uri": "https://localhost:8080/",
          "height": 140
        },
        "id": "HFONhL2SoqMD",
        "outputId": "ea63ed2e-2501-472e-aa7d-c7a02746c00a"
      },
      "outputs": [
        {
          "output_type": "error",
          "ename": "IndentationError",
          "evalue": "expected an indented block after 'for' statement on line 12 (<ipython-input-5-4474ba2a0769>, line 13)",
          "traceback": [
            "\u001b[0;36m  File \u001b[0;32m\"<ipython-input-5-4474ba2a0769>\"\u001b[0;36m, line \u001b[0;32m13\u001b[0m\n\u001b[0;31m    stemmed_words = [stemmer_porter.stem(word),stemmer_lancaster.stem(word),stemmer_snowball.stem(word)]\u001b[0m\n\u001b[0m    ^\u001b[0m\n\u001b[0;31mIndentationError\u001b[0m\u001b[0;31m:\u001b[0m expected an indented block after 'for' statement on line 12\n"
          ]
        }
      ],
      "source": [
        "from nltk.stem.porter import PorterStemmer\n",
        "from nltk.stem.lancaster import LancasterStemmer\n",
        "from nltk.stem.snowball import SnowballStemmer\n",
        "words = ['table', 'probably', 'wolves', 'playing', 'is', 'dog', 'the', 'beaches', 'grounded', 'dreamt','envision']\n",
        "# Compare different stemmers\n",
        "stemmers = ['PORTER', 'LANCASTER', 'SNOWBALL']\n",
        "stemmer_porter = PorterStemmer()\n",
        "stemmer_lancaster = LancasterStemmer()\n",
        "stemmer_snowball = SnowballStemmer('english')\n",
        "formatted_row = '{:>16}' * (len(stemmers) + 1)\n",
        "print('\\n', formatted_row.format('WORD', *stemmers), '\\n')\n",
        "for word in words:\n",
        "stemmed_words = [stemmer_porter.stem(word),stemmer_lancaster.stem(word),stemmer_snowball.stem(word)]\n",
        "print(formatted_row.format(word, *stemmed_words))"
      ]
    }
  ]
}